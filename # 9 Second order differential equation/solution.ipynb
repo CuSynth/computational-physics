{
 "cells": [
  {
   "cell_type": "code",
   "execution_count": 1,
   "metadata": {
    "collapsed": false,
    "pycharm": {
     "name": "#%%\n"
    }
   },
   "outputs": [],
   "source": [
    "import numpy as np\n",
    "import matplotlib.pyplot as plt"
   ]
  },
  {
   "cell_type": "markdown",
   "metadata": {
    "collapsed": false,
    "pycharm": {
     "name": "#%%\n"
    }
   },
   "source": [
    "<img src=\"task 9.png\">"
   ]
  },
  {
   "cell_type": "markdown",
   "metadata": {
    "collapsed": false,
    "pycharm": {
     "name": "#%% md\n"
    }
   },
   "source": [
    "$$\n",
    "\\large \\begin{cases}\n",
    "y'' = \\cos(x) \\\\\n",
    "y(-\\frac{\\pi}{2})=a \\\\\n",
    "y(\\frac{\\pi}{2})=b\n",
    "\\end{cases} \\Rightarrow y=-\\cos(x)+x\\frac{b-a}{\\pi}+\\frac{a+b}{2}\n",
    "$$"
   ]
  },
  {
   "cell_type": "markdown",
   "metadata": {
    "collapsed": false,
    "pycharm": {
     "name": "#%% md\n"
    }
   },
   "source": [
    "Numerically:"
   ]
  },
  {
   "cell_type": "markdown",
   "metadata": {
    "collapsed": false,
    "pycharm": {
     "name": "#%% md\n"
    }
   },
   "source": [
    "$$\n",
    "\\large \\begin{cases}\n",
    "y'' \\approx \\frac{y_{i+1}-2y_i+y_{i-1}}{h^2} = f_i \\\\\n",
    "y_0=A \\\\\n",
    "y_N=B\n",
    "\\end{cases}\n",
    "$$"
   ]
  },
  {
   "cell_type": "markdown",
   "metadata": {
    "collapsed": false,
    "pycharm": {
     "name": "#%% md\n"
    }
   },
   "source": [
    "So, we have system of equations:\n"
   ]
  },
  {
   "cell_type": "markdown",
   "metadata": {
    "collapsed": false,
    "pycharm": {
     "name": "#%% md\n"
    }
   },
   "source": [
    "$$\n",
    "\\large\\left (\\begin{matrix}\n",
    " 1 & 0 & 0 & 0 & \\dots & 0 & 0 & 0 \\\\\n",
    " 1 & -2 & 1 & 0 & \\dots & 0 & 0 & 0 \\\\\n",
    " 0 & 1 & -2 & 1 & \\dots & 0 & 0 & 0 \\\\\n",
    " \\vdots & \\vdots & \\vdots & \\vdots & \\  & \\vdots & \\vdots & \\vdots\\\\\n",
    " 0 & 0 & 0 & 0 & \\dots & 1 & -2 & 1 \\\\\n",
    " 0 & 0 & 0 & 0 & \\dots & 0 & 0 & 1\n",
    "\\end{matrix}\\right ) * \\left(\\begin{matrix} y_0 \\\\ y_1 \\\\ y_2 \\\\ \\vdots \\\\ y_{n-1} \\\\ y_n \\end{matrix}\\right)\n",
    "=\n",
    "\\left(\\begin{matrix}\n",
    "A \\\\\n",
    "h^2f_1 \\\\\n",
    "h^2f_2 \\\\\n",
    "\\vdots \\\\\n",
    "h^2f_{n-1} \\\\\n",
    "B\n",
    "\\end{matrix}\\right)\n",
    "$$"
   ]
  },
  {
   "cell_type": "markdown",
   "metadata": {
    "collapsed": false,
    "pycharm": {
     "name": "#%% md\n"
    }
   },
   "source": [
    "So matrix A is:"
   ]
  },
  {
   "cell_type": "markdown",
   "metadata": {
    "collapsed": false,
    "pycharm": {
     "name": "#%% md\n"
    }
   },
   "source": [
    "$$\n",
    "\\large A=\n",
    "\\large \\left(\n",
    "\\begin{matrix}\n",
    " b_1 & c_1 & 0 & 0 & \\dots & 0 & 0 & a_1 \\\\\n",
    " a_2 & b_2 & c_2 & 0 & \\dots & 0 & 0 & 0 \\\\\n",
    " 0 & a_3 & b_3 & c_3 & \\dots & 0 & 0 & 0 \\\\\n",
    " \\vdots & \\vdots & \\vdots & \\vdots & \\ & \\vdots & \\vdots & \\vdots\\\\\n",
    " 0 & 0 & 0 & 0 & \\dots & a_{n-1} & b_{n-1} & c_{n-1} \\\\\n",
    " c_n & 0 & 0 & 0 & \\dots & 0 & a_n & b_n\n",
    "\\end{matrix} \\right)\n",
    "=\n",
    "\\left( \\begin{matrix}\n",
    " 1 & 0 & 0 & 0 & \\dots & 0 & 0 & 0 \\\\\n",
    " 1 & -2 & 1 & 0 & \\dots & 0 & 0 & 0 \\\\\n",
    " 0 & 1 & -2 & 1 & \\dots & 0 & 0 & 0 \\\\\n",
    " \\vdots & \\vdots & \\vdots & \\vdots & \\  & \\vdots & \\vdots & \\vdots\\\\\n",
    " 0 & 0 & 0 & 0 & \\dots & 1 & -2 & 1 \\\\\n",
    " 0 & 0 & 0 & 0 & \\dots & 0 & 0 & 1\n",
    "\\end{matrix} \\right)\n",
    "$$\n"
   ]
  },
  {
   "cell_type": "code",
   "execution_count": 2,
   "metadata": {
    "collapsed": false,
    "pycharm": {
     "name": "#%%\n"
    }
   },
   "outputs": [],
   "source": [
    "left_border = 0 # Border conditions\n",
    "right_border = 1\n",
    "\n",
    "x_from = -np.pi/2\n",
    "x_to = np.pi/2\n",
    "\n",
    "N = 100\n",
    "h = (x_to-x_from)/N\n",
    "\n",
    "f = lambda x: np.cos(x)\n",
    "solution = lambda x: -f(x) + x*(right_border-left_border)/np.pi \\\n",
    "                           + (left_border+right_border)/2\n",
    "\n",
    "# g = lambda x: np.sin(x)                                                 # Just for test of error form\n",
    "# g_solution = lambda x: -f(x) + x*(right_border+2-left_border)/np.pi \\\n",
    "#                            + (left_border-1+(right_border+2-left_border)/2)"
   ]
  },
  {
   "cell_type": "code",
   "execution_count": 11,
   "metadata": {
    "collapsed": false,
    "pycharm": {
     "name": "#%%\n"
    }
   },
   "outputs": [],
   "source": [
    "def TridiagonalMatrix(): # Sweeping method\n",
    "# Coefficients\n",
    "    a = [0] + [ 1 for _ in range(N-1)] + [0]\n",
    "    b = [1] + [-2 for _ in range(N-1)] + [1]\n",
    "    c = [0] + [ 1 for _ in range(N-1)] + [0]\n",
    "\n",
    "    x = np.linspace(x_from, x_to, N+1)\n",
    "    d = f(x) * pow(h, 2)\n",
    "    d[0] = left_border\n",
    "    d[-1] = right_border\n",
    "\n",
    "\n",
    "# Forward step. We need to delete a_2..a_n\n",
    "    for i in range(1, N+1):   # See p15\n",
    "        ksi = a[i] / b[i - 1]\n",
    "        b[i] -= ksi * c[i - 1]\n",
    "        d[i] -= ksi * d[i - 1]\n",
    "\n",
    "\n",
    "# Reverse step\n",
    "    y = np.zeros(N+1)\n",
    "    y[N] = d[N] / b[N]\n",
    "\n",
    "# Calculate from nth to the first\n",
    "    for i in range(N-1, -1, -1):\n",
    "        y[i] = (d[i] - c[i] * y[i + 1]) / b[i]\n",
    "\n",
    "    return x, y"
   ]
  },
  {
   "cell_type": "code",
   "execution_count": 12,
   "metadata": {
    "collapsed": false,
    "pycharm": {
     "name": "#%%\n"
    }
   },
   "outputs": [],
   "source": [
    "x, y = TridiagonalMatrix() # Numerically\n",
    "sol = solution(x)          # Analytically\n",
    "\n",
    "error = [(y[i] - sol[i]) for i in range(len(x))]"
   ]
  },
  {
   "cell_type": "code",
   "execution_count": 17,
   "metadata": {
    "collapsed": false,
    "pycharm": {
     "name": "#%%\n"
    }
   },
   "outputs": [
    {
     "data": {
      "image/png": "[encoded data removed]",
      "text/plain": [
       "<Figure size 640x480 with 2 Axes>"
      ]
     },
     "metadata": {},
     "output_type": "display_data"
    }
   ],
   "source": [
    "fig = plt.figure()\n",
    "\n",
    "plt_gr = fig.add_subplot(121)\n",
    "plt_err = fig.add_subplot(122)\n",
    "\n",
    "plt_gr.set_title('y(x)')\n",
    "plt_gr.set_xlabel('x')\n",
    "plt_gr.set_ylabel('y')\n",
    "plt_gr.plot(x, y, label='y(x)')\n",
    "plt_gr.plot(x, sol, label='solution y(x)', linestyle='dashed')\n",
    "\n",
    "plt_err.set_title('error')\n",
    "plt_err.set_xlabel('x')\n",
    "plt_err.set_ylabel('y - solution')\n",
    "plt_err.plot(x, np.abs(error), color='pink', label='error')\n",
    "\n",
    "fig.subplots_adjust(hspace=0.3, wspace=0.3)\n",
    "plt_gr.legend()\n",
    "plt_err.legend()\n",
    "plt.show()"
   ]
  },
  {
   "cell_type": "markdown",
   "metadata": {},
   "source": [
    "y'' is aproximated by divided difference => error is proportional to:"
   ]
  },
  {
   "cell_type": "markdown",
   "metadata": {
    "collapsed": false,
    "pycharm": {
     "name": "#%% md\n"
    }
   },
   "source": [
    "$$\\Large \n",
    "y''(0)+\\frac{h^{2}}{12} y^{(iv)}\n",
    "\n",
    "$$"
   ]
  },
  {
   "cell_type": "markdown",
   "metadata": {},
   "source": [
    "=> err looks like cosine func (fourth derivative)"
   ]
  }
 ],
 "metadata": {
  "kernelspec": {
   "display_name": "Python 3.10.6 64-bit",
   "language": "python",
   "name": "python3"
  },
  "language_info": {
   "codemirror_mode": {
    "name": "ipython",
    "version": 3
   },
   "file_extension": ".py",
   "mimetype": "text/x-python",
   "name": "python",
   "nbconvert_exporter": "python",
   "pygments_lexer": "ipython3",
   "version": "3.10.6"
  },
  "vscode": {
   "interpreter": {
    "hash": "916dbcbb3f70747c44a77c7bcd40155683ae19c65e1c03b4aa3499c5328201f1"
   }
  }
 },
 "nbformat": 4,
 "nbformat_minor": 0
}
