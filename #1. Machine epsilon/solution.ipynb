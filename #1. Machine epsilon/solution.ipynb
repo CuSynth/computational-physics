{
 "cells": [
  {
   "cell_type": "code",
   "execution_count": 3,
   "outputs": [],
   "source": [
    "import numpy as np"
   ],
   "metadata": {
    "collapsed": false,
    "pycharm": {
     "name": "#%%\n"
    }
   }
  },
  {
   "cell_type": "markdown",
   "source": [
    "### Let's see into documentation"
   ],
   "metadata": {
    "collapsed": false,
    "pycharm": {
     "name": "#%% md\n"
    }
   }
  },
  {
   "cell_type": "code",
   "execution_count": 4,
   "outputs": [
    {
     "name": "stdout",
     "output_type": "stream",
     "text": [
      "Single precision:\n",
      "\teps:  1.1920929e-07\n",
      "\tnmant:  23\n",
      "\tmaxexp:  127\n",
      "\tminexp:  -126\n",
      "Double precision:\n",
      "\teps:  2.220446049250313e-16\n",
      "\tnmant:  52\n",
      "\tmaxexp:  1023\n",
      "\tminexp:  -1022\n"
     ]
    }
   ],
   "source": [
    "print(\"Single precision:\")\n",
    "print(\"\\teps: \", np.finfo(np.float32).eps)\n",
    "print(\"\\tnmant: \", np.finfo(np.float32).nmant)\n",
    "# maxexp - \"The smallest positive power of the base (2) that causes overflow.\"\n",
    "# So, we need maxexp-1\n",
    "print(\"\\tmaxexp: \", np.finfo(np.float32).maxexp-1)\n",
    "print(\"\\tminexp: \", np.finfo(np.float32).minexp)\n",
    "\n",
    "print(\"Double precision:\")\n",
    "print(\"\\teps: \", np.finfo(np.float64).eps)\n",
    "print(\"\\tnmant: \", np.finfo(np.float64).nmant)\n",
    "print(\"\\tmaxexp: \", np.finfo(np.float64).maxexp-1)\n",
    "print(\"\\tminexp: \", np.finfo(np.float64).minexp)"
   ],
   "metadata": {
    "collapsed": false,
    "pycharm": {
     "name": "#%%\n"
    }
   }
  },
  {
   "cell_type": "markdown",
   "source": [
    "$\\LARGE$\n",
    "Machine $\\LARGE\\epsilon$ is minimal number (the power of 2) such that $\\LARGE\\epsilon + 1 \\ne 1;$"
   ],
   "metadata": {
    "collapsed": false,
    "pycharm": {
     "name": "#%% md\n"
    }
   }
  },
  {
   "cell_type": "markdown",
   "source": [
    "$\\LARGE2^{-(n+1)}=\\frac{\\epsilon}{2} $\n",
    "$\\LARGE=> 2^{-n}=\\epsilon$"
   ],
   "metadata": {
    "collapsed": false,
    "pycharm": {
     "name": "#%% md\n"
    }
   }
  },
  {
   "cell_type": "code",
   "execution_count": 5,
   "outputs": [],
   "source": [
    "def getSingleEps():\n",
    "    step = 0\n",
    "    eps = np.float32(1.0)\n",
    "    prev_eps = np.float32(0.0)\n",
    "\n",
    "    while eps + np.float32(1.0) != np.float32(1.0):\n",
    "        prev_eps = eps\n",
    "        eps = np.float32(1/(2 ** step))\n",
    "        step += 1\n",
    "    return prev_eps, step-2\n",
    "\n",
    "def getDoubleEps():\n",
    "    step = 0\n",
    "    eps = np.float64(1.0)\n",
    "    prev_eps = np.float64(0.0)\n",
    "\n",
    "    while eps + np.float64(1.0) != np.float64(1.0):\n",
    "        prev_eps = eps\n",
    "        eps = np.float64(1/(2 ** step))\n",
    "        step += 1\n",
    "    return prev_eps, step-2"
   ],
   "metadata": {
    "collapsed": false,
    "pycharm": {
     "name": "#%%\n"
    }
   }
  },
  {
   "cell_type": "code",
   "execution_count": 6,
   "outputs": [
    {
     "name": "stdout",
     "output_type": "stream",
     "text": [
      "Single epsilon:  1.1920929e-07 ; single nmant:  23\n",
      "Double epsilon:  2.220446049250313e-16 ; double nmant:  52\n"
     ]
    }
   ],
   "source": [
    "single_eps, single_mant = getSingleEps()\n",
    "double_eps, double_mant = getDoubleEps()\n",
    "\n",
    "print(\"Single epsilon: \", single_eps, \"; single nmant: \", single_mant)\n",
    "print(\"Double epsilon: \", double_eps, \"; double nmant: \", double_mant)"
   ],
   "metadata": {
    "collapsed": false,
    "pycharm": {
     "name": "#%%\n"
    }
   }
  },
  {
   "cell_type": "markdown",
   "source": [
    "$\\LARGE$\n",
    "Denormalized number step is $\\LARGE2^{-n}*2^{E_{min}}$, so the smallest power of to is $\\LARGE2^{E_{min}-n}$"
   ],
   "metadata": {
    "collapsed": false,
    "pycharm": {
     "name": "#%% md\n"
    }
   }
  },
  {
   "cell_type": "markdown",
   "source": [
    "$\\LARGE2^{-step}=2^{E_{min}-n}=>E_{min}=-(step-n)$"
   ],
   "metadata": {
    "collapsed": false,
    "pycharm": {
     "name": "#%% md\n"
    }
   }
  },
  {
   "cell_type": "code",
   "execution_count": 7,
   "outputs": [],
   "source": [
    "def getLargestSingle():\n",
    "    num = np.float32(1.0)\n",
    "    exp = 0\n",
    "\n",
    "    while num != np.float32('inf'):\n",
    "        num = np.float32(num*2)\n",
    "        exp += 1\n",
    "\n",
    "    return exp - 1\n",
    "\n",
    "\n",
    "def getSmallestSingle():\n",
    "    num = np.float32(1.0)\n",
    "    exp = 0\n",
    "\n",
    "    while num != np.float32(0.0):\n",
    "        num = np.float32(num/2)\n",
    "        exp += 1\n",
    "    return -(exp - 1 - single_mant)\n",
    "\n",
    "\n",
    "def getLargestDouble():\n",
    "    num = np.float64(1.0)\n",
    "    exp = 0\n",
    "\n",
    "    while num != np.float64('inf'):\n",
    "        num = np.float64(num*2)\n",
    "        exp += 1\n",
    "    return exp - 1\n",
    "\n",
    "\n",
    "def getSmallestDouble():\n",
    "    num = np.float64(1.0)\n",
    "    exp = 0\n",
    "\n",
    "    while num != np.float64(0.0):\n",
    "        num = np.float64(num/2)\n",
    "        exp += 1\n",
    "    return -(exp - 1 - double_mant)"
   ],
   "metadata": {
    "collapsed": false,
    "pycharm": {
     "name": "#%%\n"
    }
   }
  },
  {
   "cell_type": "code",
   "execution_count": 8,
   "outputs": [
    {
     "name": "stdout",
     "output_type": "stream",
     "text": [
      "Single maxexp:  127\n",
      "Single minexp:  -126\n",
      "Double maxexp:  1023\n",
      "Double minexp:  -1022\n"
     ]
    },
    {
     "name": "stderr",
     "output_type": "stream",
     "text": [
      "/tmp/ipykernel_26907/1384378499.py:27: RuntimeWarning: overflow encountered in double_scalars\n",
      "  num = np.float64(num*2)\n"
     ]
    }
   ],
   "source": [
    "print(\"Single maxexp: \", getLargestSingle())\n",
    "print(\"Single minexp: \", getSmallestSingle())\n",
    "\n",
    "print(\"Double maxexp: \", getLargestDouble())\n",
    "print(\"Double minexp: \", getSmallestDouble())"
   ],
   "metadata": {
    "collapsed": false,
    "pycharm": {
     "name": "#%%\n"
    }
   }
  },
  {
   "cell_type": "code",
   "execution_count": 9,
   "outputs": [],
   "source": [
    "cmp32 = { '1' : np.float32(1.0), '1 + ε/2' : np.float32(1.0 + single_eps / 2),\n",
    "         '1 + ε' : np.float32(1.0 + single_eps), '1 + ε + ε/2' : np.float32(1.0 + single_eps + single_eps / 2)}\n",
    "\n",
    "cmp64 = { '1' : np.float64(1.0), '1 + ε/2' : np.float64(1.0 + double_eps / 2),\n",
    "         '1 + ε' : np.float64(1.0 + double_eps), '1 + ε + ε/2' : np.float64(1.0 + double_eps + double_eps / 2)}"
   ],
   "metadata": {
    "collapsed": false,
    "pycharm": {
     "name": "#%%\n"
    }
   }
  },
  {
   "cell_type": "code",
   "execution_count": 10,
   "outputs": [],
   "source": [
    "def compare(dict_):\n",
    "    for i, (name_i, elem_i) in enumerate(dict_.items()):\n",
    "        for j, (name_j, elem_j) in enumerate(dict_.items()):\n",
    "            if i>=j:\n",
    "                continue\n",
    "            if elem_i < elem_j:\n",
    "                print('%s < %s' % (name_i, name_j))\n",
    "            if elem_i > elem_j:\n",
    "                print('%s > %s' % (name_i, name_j))\n",
    "            if elem_i==elem_j:\n",
    "                print('%s == %s' % (name_i, name_j))"
   ],
   "metadata": {
    "collapsed": false,
    "pycharm": {
     "name": "#%%\n"
    }
   }
  },
  {
   "cell_type": "code",
   "execution_count": 11,
   "outputs": [
    {
     "name": "stdout",
     "output_type": "stream",
     "text": [
      "1 == 1 + ε/2\n",
      "1 < 1 + ε\n",
      "1 < 1 + ε + ε/2\n",
      "1 + ε/2 < 1 + ε\n",
      "1 + ε/2 < 1 + ε + ε/2\n",
      "1 + ε < 1 + ε + ε/2\n"
     ]
    }
   ],
   "source": [
    "compare(cmp32)"
   ],
   "metadata": {
    "collapsed": false,
    "pycharm": {
     "name": "#%%\n"
    }
   }
  },
  {
   "cell_type": "code",
   "execution_count": 12,
   "outputs": [
    {
     "name": "stdout",
     "output_type": "stream",
     "text": [
      "1 == 1 + ε/2\n",
      "1 < 1 + ε\n",
      "1 < 1 + ε + ε/2\n",
      "1 + ε/2 < 1 + ε\n",
      "1 + ε/2 < 1 + ε + ε/2\n",
      "1 + ε < 1 + ε + ε/2\n"
     ]
    }
   ],
   "source": [
    "compare(cmp64)"
   ],
   "metadata": {
    "collapsed": false,
    "pycharm": {
     "name": "#%%\n"
    }
   }
  },
  {
   "cell_type": "code",
   "execution_count": 23,
   "outputs": [
    {
     "name": "stdout",
     "output_type": "stream",
     "text": [
      "1.0\n",
      "1.0000000000000002\n",
      "1.0000000000000002\n",
      "1.0000000000000004\n",
      "1.0000000000000002\n",
      "1.0000000000000004\n",
      "2.220446049250313e-16\n"
     ]
    }
   ],
   "source": [
    "# for (_, elem) in cmp64.items():\n",
    "#     print(elem)\n",
    "\n",
    "\n",
    "arr = [np.float64(1.0) + double_eps/2,\n",
    "       np.float64(1.0) + double_eps,\n",
    "       np.float64(1.0) + double_eps/2 + double_eps,\n",
    "       np.float64(1.0) + double_eps + double_eps/2,\n",
    "       np.float64(1.0) + double_eps/2 + double_eps/2 + double_eps,\n",
    "       np.float64(1.0) + double_eps + double_eps/2 + double_eps/2]\n",
    "\n",
    "for elem in arr:\n",
    "    print(elem)\n",
    "\n",
    "print(double_eps)"
   ],
   "metadata": {
    "collapsed": false,
    "pycharm": {
     "name": "#%%\n"
    }
   }
  }
 ],
 "metadata": {
  "kernelspec": {
   "display_name": "Python 3",
   "language": "python",
   "name": "python3"
  },
  "language_info": {
   "codemirror_mode": {
    "name": "ipython",
    "version": 2
   },
   "file_extension": ".py",
   "mimetype": "text/x-python",
   "name": "python",
   "nbconvert_exporter": "python",
   "pygments_lexer": "ipython2",
   "version": "2.7.6"
  }
 },
 "nbformat": 4,
 "nbformat_minor": 0
}