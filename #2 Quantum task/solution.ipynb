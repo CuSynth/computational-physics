{
 "cells": [
  {
   "cell_type": "code",
   "execution_count": 1,
   "outputs": [],
   "source": [
    "from math import *\n",
    "import matplotlib.pyplot as plt\n",
    "import numpy as np"
   ],
   "metadata": {
    "collapsed": false,
    "pycharm": {
     "name": "#%%\n"
    }
   }
  },
  {
   "cell_type": "markdown",
   "source": [
    "$\\LARGE$\n",
    "Stationary Schrödinger equation:\n",
    "$$\\LARGE\\displaystyle -\\frac{\\hbar}{2m}\\psi''+U(x)\\psi(x)=E\\psi(x) $$\n",
    "$\\LARGE$\n",
    "One-dimensional box potential:\n",
    "$$\n",
    "\\LARGE\\displaystyle\n",
    "\\left\\{\n",
    "\\begin{array}{lr}\n",
    "  -U_0, &|x| < a\\\\\n",
    "  0, &|x| > a\n",
    "\\end{array}\n",
    "\\right.\n",
    "$$\n",
    "$\\LARGE$\n",
    "So, solution for E in ground state is the solution of such transcendental equation (for dimensionless equation):\n",
    "$$\n",
    "\\LARGE\\displaystyle\n",
    "\\cot\\sqrt{2a^2U_0(1-\\xi)}=\\sqrt{\\frac{1}{\\xi}-1};\\ \\xi= -\\frac{E}{U_0}\n",
    "$$\n",
    "\n",
    "$\\LARGE$\n",
    "Let me rewrite it:\n",
    "$$\n",
    "\\LARGE\\displaystyle\n",
    "\\tan\\sqrt{2a^2(U_0-e)}=\\sqrt{\\frac{e}{U_0-e}};\\ e=-{E}\n",
    "$$"
   ],
   "metadata": {
    "collapsed": false,
    "pycharm": {
     "name": "#%% md\n"
    }
   }
  },
  {
   "cell_type": "markdown",
   "source": [
    "$\\LARGE$\n",
    "So, we need solution for such equation:\n",
    "$$\n",
    "\\LARGE\\displaystyle\n",
    "f(e)=\\tan\\sqrt{2a^2(U_0-e)}-\\sqrt{\\frac{e}{U_0-e}}=0\n",
    "$$"
   ],
   "metadata": {
    "collapsed": false,
    "pycharm": {
     "name": "#%% md\n"
    }
   }
  },
  {
   "cell_type": "markdown",
   "source": [
    "$$\n",
    "\\LARGE\\displaystyle\n",
    "f'(e)=\\frac{1}{\\cos^2\\sqrt{2a^2(U_0-e)}}\\frac{-a^2}{\\sqrt{2a^2(U_0-e)}}-\\frac{1}{2\\sqrt{\\frac{e}{U_0-e}}}\\frac{U_0}{(U_0-e)^2}=0\n",
    "$$"
   ],
   "metadata": {
    "collapsed": false,
    "pycharm": {
     "name": "#%% md\n"
    }
   }
  },
  {
   "cell_type": "code",
   "execution_count": 2,
   "outputs": [],
   "source": [
    "width = 1.\n",
    "depth = 1.\n",
    "\n",
    "# We'll look for a solution for E within these limits:\n",
    "left = 0\n",
    "right = depth\n",
    "\n",
    "plot_step = 1e-3"
   ],
   "metadata": {
    "collapsed": false,
    "pycharm": {
     "name": "#%%\n"
    }
   }
  },
  {
   "cell_type": "code",
   "execution_count": 3,
   "outputs": [],
   "source": [
    "def f(a, U, e):\n",
    "    return tan(a * sqrt(2 * (U-e))) - sqrt(e/(U-e))\n",
    "\n",
    "def df(a, U, e):\n",
    "    root = a * sqrt(2 * (U - e))\n",
    "    return (-a**2 ) / (cos(root)**2 * root) - U / (2 * sqrt(e/(U-e)) * (U-e)**2)"
   ],
   "metadata": {
    "collapsed": false,
    "pycharm": {
     "name": "#%%\n"
    }
   }
  },
  {
   "cell_type": "code",
   "execution_count": 4,
   "outputs": [
    {
     "data": {
      "text/plain": "[<matplotlib.lines.Line2D at 0x7f68383a30d0>]"
     },
     "execution_count": 4,
     "metadata": {},
     "output_type": "execute_result"
    },
    {
     "data": {
      "text/plain": "<Figure size 640x480 with 1 Axes>",
      "image/png": "[encoded data removed]"
     },
     "metadata": {},
     "output_type": "display_data"
    }
   ],
   "source": [
    "t = np.arange(0, width, plot_step)\n",
    "F = [f(depth, width, x) for x in t]\n",
    "plt.figure()\n",
    "plt.plot(t, F)"
   ],
   "metadata": {
    "collapsed": false,
    "pycharm": {
     "name": "#%%\n"
    }
   }
  },
  {
   "cell_type": "markdown",
   "source": [
    "# Dichotomy method"
   ],
   "metadata": {
    "collapsed": false,
    "pycharm": {
     "name": "#%% md\n"
    }
   }
  },
  {
   "cell_type": "code",
   "execution_count": 5,
   "outputs": [],
   "source": [
    "def Dichotomy(l, r, prec):\n",
    "    counter = 0\n",
    "\n",
    "    while r - l > prec:\n",
    "        middle = (r+l)/2\n",
    "        if f(width, depth, middle) * f(width, depth, l) <= 0:\n",
    "            r = middle\n",
    "        else:\n",
    "            l = middle\n",
    "        counter += 1\n",
    "\n",
    "    return  (r+l)/2, counter"
   ],
   "metadata": {
    "collapsed": false,
    "pycharm": {
     "name": "#%%\n"
    }
   }
  },
  {
   "cell_type": "code",
   "execution_count": 73,
   "outputs": [
    {
     "name": "stdout",
     "output_type": "stream",
     "text": [
      "There is a root 0.6038972855. Found in 17 iterations\n"
     ]
    }
   ],
   "source": [
    "precision = 1e-5\n",
    "start = 0.05\n",
    "\n",
    "res, num = Dichotomy(start, right, precision)\n",
    "print(\"There is a root %1.10f. Found in %d iterations\" % (res, num))"
   ],
   "metadata": {
    "collapsed": false,
    "pycharm": {
     "name": "#%%\n"
    }
   }
  },
  {
   "cell_type": "markdown",
   "source": [
    "# Simple iteration"
   ],
   "metadata": {
    "collapsed": false,
    "pycharm": {
     "name": "#%% md\n"
    }
   }
  },
  {
   "cell_type": "code",
   "execution_count": 74,
   "outputs": [],
   "source": [
    "def Iteration(starting_pt, prec):\n",
    "    step = 0\n",
    "    current_point = starting_pt\n",
    "\n",
    "    while f(width, depth, current_point) > prec:\n",
    "        current_point = current_point - f(width, depth, current_point)/df(width, depth, starting_pt)\n",
    "        step += 1\n",
    "    return (current_point, step)"
   ],
   "metadata": {
    "collapsed": false,
    "pycharm": {
     "name": "#%%\n"
    }
   }
  },
  {
   "cell_type": "code",
   "execution_count": 75,
   "outputs": [
    {
     "name": "stdout",
     "output_type": "stream",
     "text": [
      "There is a root 0.6038963175. Found in 45 iterations\n"
     ]
    }
   ],
   "source": [
    "res, num = Iteration(start, precision)\n",
    "print(\"There is a root %1.10f. Found in %d iterations\" % (res, num))"
   ],
   "metadata": {
    "collapsed": false,
    "pycharm": {
     "name": "#%%\n"
    }
   }
  },
  {
   "cell_type": "markdown",
   "source": [
    "# Newton's method"
   ],
   "metadata": {
    "collapsed": false,
    "pycharm": {
     "name": "#%% md\n"
    }
   }
  },
  {
   "cell_type": "code",
   "execution_count": 76,
   "outputs": [],
   "source": [
    "def Newton(starting_pt, prec):\n",
    "    step = 0\n",
    "    current_point = starting_pt\n",
    "\n",
    "    while f(width, depth, current_point) > prec:\n",
    "        current_point = current_point - f(width, depth, current_point)/df(width, depth, current_point)\n",
    "        step += 1\n",
    "    return (current_point, step)"
   ],
   "metadata": {
    "collapsed": false,
    "pycharm": {
     "name": "#%%\n"
    }
   }
  },
  {
   "cell_type": "code",
   "execution_count": 77,
   "outputs": [
    {
     "name": "stdout",
     "output_type": "stream",
     "text": [
      "There is a root 0.6038978513. Found in 4 iterations\n"
     ]
    }
   ],
   "source": [
    "res, num = Newton(start, precision)\n",
    "print(\"There is a root %1.10f. Found in %d iterations\" % (res, num))"
   ],
   "metadata": {
    "collapsed": false,
    "pycharm": {
     "name": "#%%\n"
    }
   }
  },
  {
   "cell_type": "code",
   "execution_count": 10,
   "outputs": [],
   "source": [],
   "metadata": {
    "collapsed": false,
    "pycharm": {
     "name": "#%%\n"
    }
   }
  }
 ],
 "metadata": {
  "kernelspec": {
   "display_name": "Python 3",
   "language": "python",
   "name": "python3"
  },
  "language_info": {
   "codemirror_mode": {
    "name": "ipython",
    "version": 2
   },
   "file_extension": ".py",
   "mimetype": "text/x-python",
   "name": "python",
   "nbconvert_exporter": "python",
   "pygments_lexer": "ipython2",
   "version": "2.7.6"
  }
 },
 "nbformat": 4,
 "nbformat_minor": 0
}