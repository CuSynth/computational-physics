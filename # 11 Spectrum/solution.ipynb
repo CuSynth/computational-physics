{
 "cells": [
  {
   "cell_type": "code",
   "execution_count": 1,
   "metadata": {
    "collapsed": false,
    "pycharm": {
     "name": "#%%\n"
    }
   },
   "outputs": [],
   "source": [
    "import numpy as np\n",
    "import matplotlib.pyplot as plt\n",
    "import scipy.linalg as sla\n"
   ]
  },
  {
   "cell_type": "markdown",
   "metadata": {
    "collapsed": false,
    "pycharm": {
     "name": "#%%\n"
    }
   },
   "source": [
    "<img src=\"task 11.png\">"
   ]
  },
  {
   "cell_type": "markdown",
   "metadata": {
    "collapsed": false,
    "pycharm": {
     "name": "#%% md\n"
    }
   },
   "source": [
    "$$\n",
    "{\\large-\\frac{1}{2}\\psi''+\\frac{1}{2}x^2\\psi-E\\psi=0\\ \\Rightarrow\\ } oscillator\n",
    "$$"
   ]
  },
  {
   "cell_type": "markdown",
   "metadata": {
    "collapsed": false,
    "pycharm": {
     "name": "#%% md\n"
    }
   },
   "source": [
    "Analytic solution:"
   ]
  },
  {
   "cell_type": "markdown",
   "metadata": {
    "collapsed": false,
    "pycharm": {
     "name": "#%% md\n"
    }
   },
   "source": [
    "$$\n",
    "{\\large E_n=\\hbar\\omega(n+\\frac{1}{2})} \\\\\n",
    "{\\large \\psi_n(x)=\\frac{1}{\\sqrt{2^nn!}} \\left(\\frac{m\\omega}{\\pi\\hbar}\\right)^{\\frac{1}{4}} \\exp\\left(\\frac{-m\\omega x^2}{2\\hbar}\\right) H_n\\left(\\sqrt{\\frac{m\\omega}{\\hbar}} x\\right)}\n",
    "$$"
   ]
  },
  {
   "cell_type": "markdown",
   "metadata": {},
   "source": [
    "Let's take\n",
    "$$\n",
    "\\large \\hbar=m=\\omega=1\n",
    "$$"
   ]
  },
  {
   "cell_type": "markdown",
   "metadata": {
    "collapsed": false,
    "pycharm": {
     "name": "#%% md\n"
    }
   },
   "source": [
    "$$\n",
    "\\Rightarrow\\ E_0=\\frac{1}{2};\\ \\psi_0(x)=\\left(\\frac{1}{\\pi}\\right)^{\\frac{1}{4}} \\exp\\left(-\\frac{x^2}{2}\\right)\n",
    "$$"
   ]
  },
  {
   "cell_type": "markdown",
   "metadata": {
    "collapsed": false,
    "pycharm": {
     "name": "#%% md\n"
    }
   },
   "source": [
    "Numerically:"
   ]
  },
  {
   "cell_type": "markdown",
   "metadata": {
    "collapsed": false,
    "pycharm": {
     "name": "#%% md\n"
    }
   },
   "source": [
    "$$\n",
    "\\large\n",
    "\\psi'' \\approx \\frac{\\psi_{i-1}-2\\psi_i+\\psi_{i+1}}{h^2}\n",
    "$$"
   ]
  },
  {
   "cell_type": "markdown",
   "metadata": {
    "collapsed": false,
    "pycharm": {
     "name": "#%% md\n"
    }
   },
   "source": [
    "Substituting into the equation:"
   ]
  },
  {
   "cell_type": "markdown",
   "metadata": {
    "collapsed": false,
    "pycharm": {
     "name": "#%% md\n"
    }
   },
   "source": [
    "$$\n",
    "{\\large -\\frac{1}{2h^2}\\psi_{i-1}+(\\frac{1}{h^2}+U_i)\\psi_i-\\frac{1}{2h^2}\\psi_{i+1}=E\\psi_i}\n",
    "$$"
   ]
  },
  {
   "cell_type": "markdown",
   "metadata": {
    "collapsed": false,
    "pycharm": {
     "name": "#%% md\n"
    }
   },
   "source": [
    "Let:"
   ]
  },
  {
   "cell_type": "markdown",
   "metadata": {
    "collapsed": false,
    "pycharm": {
     "name": "#%% md\n"
    }
   },
   "source": [
    "$$\n",
    "\\large \\rho = \\frac{1}{h^2} \\\\ \n",
    "\\ \\\\\n",
    "\\\\\n",
    "\\Rightarrow -\\frac{\\rho}{2}\\psi_{i-1}+(\\rho+U_i)\\psi_i-\\frac{\\rho}{2}\\psi_{i+1}=E\\psi_i\n",
    "$$"
   ]
  },
  {
   "cell_type": "markdown",
   "metadata": {
    "collapsed": false,
    "pycharm": {
     "name": "#%% md\n"
    }
   },
   "source": [
    "So, we have system of equations:\n"
   ]
  },
  {
   "cell_type": "markdown",
   "metadata": {
    "collapsed": false,
    "pycharm": {
     "name": "#%% md\n"
    }
   },
   "source": [
    "$$\n",
    "\\large\\left (\\begin{matrix}\n",
    " \\rho+U_0 & 1 & 0 & 0 & \\dots & 0 & 0 & 0 \\\\\n",
    " -\\frac{1}{2h^2} & \\rho+U_1 & -\\frac{1}{2h^2} & 0 & \\dots & 0 & 0 & 0 \\\\\n",
    " 0 & -\\frac{1}{2h^2} & \\rho+U_2 & -\\frac{1}{2h^2} & \\dots & 0 & 0 & 0 \\\\\n",
    " \\vdots & \\vdots & \\vdots & \\vdots & \\  & \\vdots & \\vdots & \\vdots\\\\\n",
    " 0 & 0 & 0 & 0 & \\dots & -\\frac{1}{2h^2} & \\rho+U_{n-1} & -\\frac{1}{2h^2} \\\\\n",
    " 0 & 0 & 0 & 0 & \\dots & 0 & -\\frac{1}{2h^2} & \\rho+U_n\n",
    "\\end{matrix}\\right ) * \\left(\\begin{matrix} \\psi_0 \\\\ \\psi_1 \\\\ \\psi_2 \\\\ \\vdots \\\\ \\psi_{n-1} \\\\ \\psi_n \\end{matrix}\\right)\n",
    "=\n",
    "\\left(\\begin{matrix}\n",
    "\\psi_1 \\\\\n",
    "\\psi_2 \\\\\n",
    "\\psi_3 \\\\\n",
    "\\vdots \\\\\n",
    "\\psi_{n-1}\\\\\n",
    "\\psi_n\n",
    "\\end{matrix}\\right)\n",
    "= H\\overline{\\psi}\n",
    "$$"
   ]
  },
  {
   "cell_type": "markdown",
   "metadata": {},
   "source": [
    "Let's renumber in descending order eigenvalues and take random vector as zero approximation, rewriting it using eigenvectors:\n",
    "$$\n",
    "|\\lambda_1|>|\\lambda_2|\\ge|\\lambda_3|\\ge\\dots\\ge|\\lambda_n| \\\\\n",
    "\\ \\\\\n",
    "\\\\\n",
    "\\psi^0 = a_1\\psi_1 + a_2\\psi_2+\\dots\n",
    "$$"
   ]
  },
  {
   "cell_type": "markdown",
   "metadata": {},
   "source": [
    "$$\n",
    "\\forall \\psi_j:\\ H\\psi_j = \\lambda_j \\psi_j\n",
    "$$"
   ]
  },
  {
   "cell_type": "markdown",
   "metadata": {},
   "source": [
    "Let's make iterations like:\n",
    "$$\n",
    "\\psi^{[i]}=H\\psi^{[i-1]}\n",
    "$$"
   ]
  },
  {
   "cell_type": "markdown",
   "metadata": {
    "collapsed": false,
    "pycharm": {
     "name": "#%% md\n"
    }
   },
   "source": [
    "$$\n",
    "\\psi_i = \\sum_{j=1}^{n}a_j\\lambda_j^i\\psi_j=\\lambda_1^i\\left(a_1\\psi_1 + \n",
    "\\sum_{j=2}^{n}a_j\\left(\\frac{\\lambda_j}{\\lambda_1}\\right)^i \\psi_j\\right)\n",
    "$$"
   ]
  },
  {
   "cell_type": "markdown",
   "metadata": {},
   "source": [
    "$$\n",
    "\\lim_{i \\to \\inf} \\left( \\frac{\\lambda_j}{\\lambda_1} \\right)^i = 0 \\\\\n",
    "\\ \\\\\n",
    "\\\\\n",
    "\\Rightarrow\\ \\psi^i = H\\cdot\\psi^{[i-1]} \\approx \\lambda_1\\psi^{[i-1]} \\\\\n",
    "\\ \\\\\n",
    "\\\\\n",
    "\\Rightarrow \\lambda_1^{(i)} = \\frac{\\psi_n^{[i]}}{\\psi_n^{[i-1]}}\\ \\forall n\n",
    "$$"
   ]
  },
  {
   "cell_type": "markdown",
   "metadata": {},
   "source": [
    "Or:\n",
    "$$\n",
    "\\lambda_1^{(i)} = {\\frac{||\\psi^{[i]}||}{||\\psi^{[i-1]}||}}=\\lambda_{max}\n",
    "$$"
   ]
  },
  {
   "cell_type": "markdown",
   "metadata": {
    "collapsed": false,
    "pycharm": {
     "name": "#%% md\n"
    }
   },
   "source": [
    "But we need $\\lambda_{min}$. So we need:"
   ]
  },
  {
   "cell_type": "markdown",
   "metadata": {
    "collapsed": false,
    "pycharm": {
     "name": "#%% md\n"
    }
   },
   "source": [
    "$$\n",
    "{\\large \\widetilde{\\lambda}_{max} = \\frac{1}{\\lambda_{min}}\\ for\\ \\widetilde{H}=H^{-1}}\n",
    "$$"
   ]
  },
  {
   "cell_type": "markdown",
   "metadata": {},
   "source": [
    "Iterations:\n",
    "$$\n",
    "{H^{-1}\\psi^{[i-1]}=\\psi^{[i]}} \\\\\n",
    "$$"
   ]
  },
  {
   "cell_type": "markdown",
   "metadata": {},
   "source": [
    "Or:\n",
    "$$\n",
    "{\\large \\psi^{[i-1]}=H\\cdot\\psi^{[i]}}\n",
    "$$"
   ]
  },
  {
   "cell_type": "markdown",
   "metadata": {
    "collapsed": false,
    "pycharm": {
     "name": "#%% md\n"
    }
   },
   "source": [
    "So, we need to do k iterations like:"
   ]
  },
  {
   "cell_type": "markdown",
   "metadata": {
    "collapsed": false,
    "pycharm": {
     "name": "#%% md\n"
    }
   },
   "source": [
    "$$\n",
    "{\\large H\\cdot\\psi^{[i]}=\\psi^{[i-1]}}\\ \\rightarrow\\ \\lambda_{max}\\psi^{[i]}\n",
    "$$"
   ]
  },
  {
   "cell_type": "markdown",
   "metadata": {
    "collapsed": false,
    "pycharm": {
     "name": "#%% md\n"
    }
   },
   "source": [
    "Here $\\psi^{[i]}$ is not normed and contains $\\widetilde{\\lambda}_{max}$.\n",
    "But $\\psi^{[i-1]}$ have to be normed."
   ]
  },
  {
   "cell_type": "markdown",
   "metadata": {
    "collapsed": false,
    "pycharm": {
     "name": "#%% md\n"
    }
   },
   "source": [
    "$$\n",
    "{\\large E_0 \\approx \\lambda_{min} = \\frac{||\\psi^{[i-1]}||}{||\\psi^{[i]}||} }\n",
    "$$"
   ]
  },
  {
   "cell_type": "code",
   "execution_count": 2,
   "metadata": {
    "collapsed": false,
    "pycharm": {
     "name": "#%%\n"
    }
   },
   "outputs": [],
   "source": [
    "L = 5  #  Lets think that |psi(+-L)| = 0\n",
    "\n",
    "N = 2000    # Number of steps along x\n",
    "M = 20      # Number of iterations\n",
    "h = 2*L/N\n",
    "r = 1/h**2\n",
    "\n",
    "U = lambda x: pow(x, 2)/2"
   ]
  },
  {
   "cell_type": "code",
   "execution_count": 3,
   "metadata": {
    "collapsed": false,
    "pycharm": {
     "name": "#%%\n"
    }
   },
   "outputs": [],
   "source": [
    "x = np.linspace(-L, L, N + 1) # x values\n",
    "u = U(x)                      # u values"
   ]
  },
  {
   "cell_type": "code",
   "execution_count": 4,
   "metadata": {},
   "outputs": [],
   "source": [
    "solution = lambda x: pow(np.pi, -1 / 4) * np.exp(- pow(x, 2) / 2)\n",
    "\n",
    "u_sol = solution(x)\n",
    "u_sol /= sla.norm(u_sol)\n",
    "E_sol = 0.5"
   ]
  },
  {
   "cell_type": "code",
   "execution_count": 5,
   "metadata": {
    "collapsed": false,
    "pycharm": {
     "name": "#%%\n"
    }
   },
   "outputs": [],
   "source": [
    "def TridiagonalMatrix(d):\n",
    "    a = [0] + [-r/2 for _ in range(N)]\n",
    "    b = [u[i] + r for i in range(N + 1)]\n",
    "    c = [-r/2 for _ in range(N)] + [0]\n",
    "    d = d.copy()\n",
    "    \n",
    "    for i in range(1, N + 1):\n",
    "        xi = a[i] / b[i - 1]\n",
    "        b[i] -= xi * c[i - 1]\n",
    "        d[i] -= xi * d[i - 1]\n",
    "    y = np.zeros(N + 1)\n",
    "    y[-1] = d[-1] / b[-1]\n",
    "    for i in range(N - 1, -1, -1):\n",
    "        y[i] = (d[i] - c[i] * y[i + 1]) / b[i]\n",
    "    return y"
   ]
  },
  {
   "cell_type": "code",
   "execution_count": 6,
   "metadata": {
    "collapsed": false,
    "pycharm": {
     "name": "#%%\n"
    }
   },
   "outputs": [],
   "source": [
    "def ReversedIters(iters=M):\n",
    "    Psi = np.ones(N+1)\n",
    "    Psi[0] = 0\n",
    "    Psi[-1] = 0\n",
    "\n",
    "    for i in range(iters):\n",
    "        prev_Psi = Psi/sla.norm(Psi)\n",
    "        Psi = TridiagonalMatrix(prev_Psi)\n",
    "\n",
    "    return Psi/sla.norm(Psi), abs(Psi/sla.norm(Psi) - u_sol), sla.norm(prev_Psi)/sla.norm(Psi)\n"
   ]
  },
  {
   "cell_type": "code",
   "execution_count": 7,
   "metadata": {
    "collapsed": false,
    "pycharm": {
     "name": "#%%\n"
    }
   },
   "outputs": [
    {
     "data": {
      "image/png": "[encoded data removed]",
      "text/plain": [
       "<Figure size 1000x500 with 1 Axes>"
      ]
     },
     "metadata": {},
     "output_type": "display_data"
    }
   ],
   "source": [
    "psi, delta, E = ReversedIters()\n",
    "\n",
    "\n",
    "plt.figure(figsize=(10,5))\n",
    "plt.plot(x, psi, label='Numeric')\n",
    "plt.plot(x, u_sol, label='Analytic', linestyle='dotted')\n",
    "plt.xlabel('x')\n",
    "plt.ylabel('psi(x)')\n",
    "plt.grid()\n",
    "plt.xlim([-5,5])\n",
    "plt.legend()\n",
    "plt.title(r'$E_0=$'+str(E))\n",
    "plt.show()"
   ]
  }
 ],
 "metadata": {
  "kernelspec": {
   "display_name": "Python 3.10.6 64-bit",
   "language": "python",
   "name": "python3"
  },
  "language_info": {
   "codemirror_mode": {
    "name": "ipython",
    "version": 3
   },
   "file_extension": ".py",
   "mimetype": "text/x-python",
   "name": "python",
   "nbconvert_exporter": "python",
   "pygments_lexer": "ipython3",
   "version": "3.10.6"
  },
  "vscode": {
   "interpreter": {
    "hash": "916dbcbb3f70747c44a77c7bcd40155683ae19c65e1c03b4aa3499c5328201f1"
   }
  }
 },
 "nbformat": 4,
 "nbformat_minor": 0
}
